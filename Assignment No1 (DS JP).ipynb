{
 "cells": [
  {
   "cell_type": "code",
   "execution_count": 1,
   "id": "40aad561",
   "metadata": {},
   "outputs": [
    {
     "name": "stdout",
     "output_type": "stream",
     "text": [
      "Twinkle, twinkle , little star, \n",
      "\tHow I wonder what you are! \n",
      "\t\tUp above the world so high, \n",
      "\t\tLike a diamond in the sky.\n",
      "Twinkle, twinkle , little star, \n",
      "\tHow I wonder what you are!\n"
     ]
    }
   ],
   "source": [
    "a= ('Twinkle, twinkle , little star, \\n\\tHow I wonder what you are! \\n\\t\\tUp above the world so high, \\n\\t\\tLike a diamond in the sky.\\nTwinkle, twinkle , little star, \\n\\tHow I wonder what you are!')\n",
    "print(a)"
   ]
  },
  {
   "cell_type": "code",
   "execution_count": 2,
   "id": "b168164d",
   "metadata": {},
   "outputs": [
    {
     "name": "stdout",
     "output_type": "stream",
     "text": [
      "pip 21.2.4 from C:\\Users\\MOHSAN ALI\\anaconda3\\lib\\site-packages\\pip (python 3.9)\n",
      "\n",
      "Note: you may need to restart the kernel to use updated packages.\n"
     ]
    }
   ],
   "source": [
    "pip --version"
   ]
  },
  {
   "cell_type": "code",
   "execution_count": 3,
   "id": "de28a67c",
   "metadata": {},
   "outputs": [
    {
     "name": "stdout",
     "output_type": "stream",
     "text": [
      "Today date and time is : 2022-01-01 20:51:52.541944\n"
     ]
    }
   ],
   "source": [
    "#Date and Time\n",
    "from datetime import datetime\n",
    "Date=datetime.now()\n",
    "print(\"Today date and time is :\",Date )"
   ]
  },
  {
   "cell_type": "code",
   "execution_count": 9,
   "id": "a15da8ec",
   "metadata": {},
   "outputs": [
    {
     "name": "stdout",
     "output_type": "stream",
     "text": [
      "Enter the radius of Circle:2\n",
      "Area of a Circle = 12.560\n"
     ]
    }
   ],
   "source": [
    "#Area of Circle\n",
    "PI= 3.14\n",
    "r=float(input(\"Enter the radius of Circle:\"))\n",
    "area= PI*r*r\n",
    "print(\"Area of a Circle = %.3f\" %area)"
   ]
  },
  {
   "cell_type": "code",
   "execution_count": 10,
   "id": "d3e814b8",
   "metadata": {},
   "outputs": [
    {
     "name": "stdout",
     "output_type": "stream",
     "text": [
      "Enter your first name:Pakistan\n",
      "Enter your last name:Jawan\n",
      "Jawan Pakistan\n"
     ]
    }
   ],
   "source": [
    "#First and Last Name\n",
    "first_name=input(\"Enter your first name:\")\n",
    "Last_name= input(\"Enter your last name:\")\n",
    "print(Last_name,first_name)\n"
   ]
  },
  {
   "cell_type": "code",
   "execution_count": 11,
   "id": "c9773f3c",
   "metadata": {},
   "outputs": [
    {
     "name": "stdout",
     "output_type": "stream",
     "text": [
      "natsikaP nawaJ\n"
     ]
    }
   ],
   "source": [
    "#Reverse Full String\n",
    "def reverse_func(x,y):\n",
    "    x=first_name\n",
    "    y=Last_name\n",
    "    full_name=x[::-1]+\" \"+y[::-1]\n",
    "    return full_name\n",
    "print(reverse_func(first_name,Last_name))\n"
   ]
  },
  {
   "cell_type": "code",
   "execution_count": 12,
   "id": "5ba38228",
   "metadata": {},
   "outputs": [
    {
     "name": "stdout",
     "output_type": "stream",
     "text": [
      "Enter first number:38\n",
      "Enter first number:21\n",
      "59\n"
     ]
    }
   ],
   "source": [
    "#2 inputs and Addition\n",
    "fst= int(input(\"Enter first number:\"))\n",
    "lst= int(input(\"Enter first number:\"))\n",
    "add=fst+lst\n",
    "print(add)"
   ]
  },
  {
   "cell_type": "code",
   "execution_count": 13,
   "id": "0945d35f",
   "metadata": {},
   "outputs": [],
   "source": [
    "### Thanks sir, I learned new consepts and I'll try to do my best."
   ]
  }
 ],
 "metadata": {
  "kernelspec": {
   "display_name": "Python 3 (ipykernel)",
   "language": "python",
   "name": "python3"
  },
  "language_info": {
   "codemirror_mode": {
    "name": "ipython",
    "version": 3
   },
   "file_extension": ".py",
   "mimetype": "text/x-python",
   "name": "python",
   "nbconvert_exporter": "python",
   "pygments_lexer": "ipython3",
   "version": "3.9.7"
  }
 },
 "nbformat": 4,
 "nbformat_minor": 5
}
